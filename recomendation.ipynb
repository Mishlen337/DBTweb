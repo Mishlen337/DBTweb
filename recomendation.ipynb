{
 "cells": [
  {
   "cell_type": "code",
   "execution_count": 7,
   "metadata": {},
   "outputs": [],
   "source": [
    "# Use a pipeline as a high-level helper\n",
    "from transformers import pipeline\n",
    "\n",
    "pipe = pipeline(\"text-classification\", model=\"nebiyu29/fintunned-v2-roberta_GA\", device='cpu')"
   ]
  },
  {
   "cell_type": "code",
   "execution_count": 3,
   "metadata": {},
   "outputs": [
    {
     "name": "stdout",
     "output_type": "stream",
     "text": [
      "classification classes: ['depression', 'anxiety', 'bipolar disorder', 'schizophrenia', 'PTSD', 'OCD', 'ADHD', 'autism', 'eating disorder', 'personality disorder', 'phobia']\n"
     ]
    }
   ],
   "source": [
    "print(f\"classification classes: {list(pipe.model.config.id2label.values())}\")"
   ]
  },
  {
   "cell_type": "code",
   "execution_count": 6,
   "metadata": {},
   "outputs": [
    {
     "name": "stdout",
     "output_type": "stream",
     "text": [
      "[{'translation_text': \"I can't control myself\"}]\n",
      "pred time 406.9852828979492ms\n"
     ]
    }
   ],
   "source": [
    "import time\n",
    "start_time = time.time()\n",
    "output = pipe(\"I can't control myself eating chocolate\")\n",
    "print(output, sep='\\n')\n",
    "print(f\"pred time {(time.time() - start_time) * 1000}ms\")"
   ]
  },
  {
   "cell_type": "code",
   "execution_count": 5,
   "metadata": {},
   "outputs": [],
   "source": [
    "def choose_specialist(predicted_field, specialists_priorities, thresh=0.5):\n",
    "    field = predicted_field['label']\n",
    "    score = predicted_field['score']\n",
    "    if score < thresh:\n",
    "        return None\n",
    "    related_specialists = []\n",
    "    for spec in specialists_priorities:\n",
    "        if field in spec[\"priorities\"].keys():\n",
    "            related_specialists.append((spec[\"name\"], spec[\"priorities\"][field]))\n",
    "    sorted_related_specialists = sorted(related_specialists, key=lambda x: x[1])\n",
    "\n",
    "    if sorted_related_specialists:\n",
    "        return sorted_related_specialists[0]\n",
    "    return None"
   ]
  },
  {
   "cell_type": "code",
   "execution_count": 6,
   "metadata": {},
   "outputs": [
    {
     "data": {
      "text/plain": [
       "('Михаил Исаков', 2)"
      ]
     },
     "execution_count": 6,
     "metadata": {},
     "output_type": "execute_result"
    }
   ],
   "source": [
    "specialists_priorities = [{\n",
    "    \"name\": \"Михаил Исаков\",\n",
    "    \"priorities\": {\"PTSD\": 1, \"eating disorder\": 2},\n",
    "},\n",
    "{\n",
    "    \"name\": \"Головаха Николай\",\n",
    "    \"priorities\": {\"depression\": 1, \"anxiety\": 2, \"phobia\": 3},\n",
    "},\n",
    "{\n",
    "    \"name\": \"Глебова Мария\",\n",
    "    \"priorities\": {\"OCD\": 1, \"personality disorder\": 2},\n",
    "}\n",
    "]\n",
    "choose_specialist(output[0], specialists_priorities)"
   ]
  },
  {
   "cell_type": "code",
   "execution_count": 3,
   "metadata": {},
   "outputs": [
    {
     "name": "stdout",
     "output_type": "stream",
     "text": [
      "Looking in indexes: https://pypi.org/simple, https://pypi.ngc.nvidia.com\n",
      "Collecting sentencepiece\n",
      "  Downloading sentencepiece-0.2.0-cp39-cp39-macosx_11_0_arm64.whl.metadata (7.7 kB)\n",
      "Downloading sentencepiece-0.2.0-cp39-cp39-macosx_11_0_arm64.whl (1.2 MB)\n",
      "\u001b[2K   \u001b[90m━━━━━━━━━━━━━━━━━━━━━━━━━━━━━━━━━━━━━━━━\u001b[0m \u001b[32m1.2/1.2 MB\u001b[0m \u001b[31m2.0 MB/s\u001b[0m eta \u001b[36m0:00:00\u001b[0ma \u001b[36m0:00:01\u001b[0m0m\n",
      "\u001b[?25hInstalling collected packages: sentencepiece\n",
      "Successfully installed sentencepiece-0.2.0\n",
      "\n",
      "\u001b[1m[\u001b[0m\u001b[34;49mnotice\u001b[0m\u001b[1;39;49m]\u001b[0m\u001b[39;49m A new release of pip is available: \u001b[0m\u001b[31;49m23.3.1\u001b[0m\u001b[39;49m -> \u001b[0m\u001b[32;49m24.0\u001b[0m\n",
      "\u001b[1m[\u001b[0m\u001b[34;49mnotice\u001b[0m\u001b[1;39;49m]\u001b[0m\u001b[39;49m To update, run: \u001b[0m\u001b[32;49mpip install --upgrade pip\u001b[0m\n"
     ]
    }
   ],
   "source": [
    "!pip install sentencepiece"
   ]
  },
  {
   "cell_type": "code",
   "execution_count": 2,
   "metadata": {},
   "outputs": [
    {
     "name": "stderr",
     "output_type": "stream",
     "text": [
      "/Users/mikhailisakov/miniconda3/envs/ml3.9/lib/python3.9/site-packages/torch/_utils.py:831: UserWarning: TypedStorage is deprecated. It will be removed in the future and UntypedStorage will be the only storage class. This should only matter to you if you are using storages directly.  To access UntypedStorage directly, use tensor.untyped_storage() instead of tensor.storage()\n",
      "  return self.fget.__get__(instance, owner)()\n",
      "source.spm: 100%|██████████| 1.08M/1.08M [00:00<00:00, 2.45MB/s]\n",
      "target.spm: 100%|██████████| 803k/803k [00:00<00:00, 5.06MB/s]\n",
      "vocab.json: 100%|██████████| 2.60M/2.60M [00:00<00:00, 3.03MB/s]\n",
      "/Users/mikhailisakov/miniconda3/envs/ml3.9/lib/python3.9/site-packages/transformers/models/marian/tokenization_marian.py:197: UserWarning: Recommended: pip install sacremoses.\n",
      "  warnings.warn(\"Recommended: pip install sacremoses.\")\n"
     ]
    }
   ],
   "source": [
    "pipe = pipeline(\"translation\", model=\"Helsinki-NLP/opus-mt-ru-en\", device='cpu')"
   ]
  },
  {
   "cell_type": "code",
   "execution_count": 4,
   "metadata": {},
   "outputs": [
    {
     "data": {
      "text/plain": [
       "\"I can't control myself eating chocolate.\""
      ]
     },
     "execution_count": 4,
     "metadata": {},
     "output_type": "execute_result"
    }
   ],
   "source": [
    "pipe('Я не могу контролировать себя поедая шоколад')[0]['translation_text']"
   ]
  },
  {
   "cell_type": "code",
   "execution_count": null,
   "metadata": {},
   "outputs": [],
   "source": []
  }
 ],
 "metadata": {
  "kernelspec": {
   "display_name": "Python 3",
   "language": "python",
   "name": "python3"
  },
  "language_info": {
   "codemirror_mode": {
    "name": "ipython",
    "version": 3
   },
   "file_extension": ".py",
   "mimetype": "text/x-python",
   "name": "python",
   "nbconvert_exporter": "python",
   "pygments_lexer": "ipython3",
   "version": "3.9.18"
  }
 },
 "nbformat": 4,
 "nbformat_minor": 2
}
