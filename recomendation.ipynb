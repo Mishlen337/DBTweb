{
 "cells": [
  {
   "cell_type": "code",
   "execution_count": 2,
   "metadata": {},
   "outputs": [],
   "source": [
    "# Use a pipeline as a high-level helper\n",
    "from transformers import pipeline\n",
    "\n",
    "pipe = pipeline(\"text-classification\", model=\"nebiyu29/fintunned-v2-roberta_GA\", device='cpu')"
   ]
  },
  {
   "cell_type": "code",
   "execution_count": 3,
   "metadata": {},
   "outputs": [
    {
     "name": "stdout",
     "output_type": "stream",
     "text": [
      "classification classes: ['depression', 'anxiety', 'bipolar disorder', 'schizophrenia', 'PTSD', 'OCD', 'ADHD', 'autism', 'eating disorder', 'personality disorder', 'phobia']\n"
     ]
    }
   ],
   "source": [
    "print(f\"classification classes: {list(pipe.model.config.id2label.values())}\")"
   ]
  },
  {
   "cell_type": "code",
   "execution_count": 4,
   "metadata": {},
   "outputs": [
    {
     "name": "stdout",
     "output_type": "stream",
     "text": [
      "{'label': 'eating disorder', 'score': 0.9883596897125244}\n",
      "pred time 762.8328800201416ms\n"
     ]
    }
   ],
   "source": [
    "import time\n",
    "start_time = time.time()\n",
    "output = pipe(\"I can't control myself eating chocolate\")\n",
    "print(*output, sep='\\n')\n",
    "print(f\"pred time {(time.time() - start_time) * 1000}ms\")"
   ]
  },
  {
   "cell_type": "code",
   "execution_count": 5,
   "metadata": {},
   "outputs": [],
   "source": [
    "def choose_specialist(predicted_field, specialists_priorities, thresh=0.5):\n",
    "    field = predicted_field['label']\n",
    "    score = predicted_field['score']\n",
    "    if score < thresh:\n",
    "        return None\n",
    "    related_specialists = []\n",
    "    for spec in specialists_priorities:\n",
    "        if field in spec[\"priorities\"].keys():\n",
    "            related_specialists.append((spec[\"name\"], spec[\"priorities\"][field]))\n",
    "    sorted_related_specialists = sorted(related_specialists, key=lambda x: x[1])\n",
    "\n",
    "    if sorted_related_specialists:\n",
    "        return sorted_related_specialists[0]\n",
    "    return None"
   ]
  },
  {
   "cell_type": "code",
   "execution_count": 6,
   "metadata": {},
   "outputs": [
    {
     "data": {
      "text/plain": [
       "('Михаил Исаков', 2)"
      ]
     },
     "execution_count": 6,
     "metadata": {},
     "output_type": "execute_result"
    }
   ],
   "source": [
    "specialists_priorities = [{\n",
    "    \"name\": \"Михаил Исаков\",\n",
    "    \"priorities\": {\"PTSD\": 1, \"eating disorder\": 2},\n",
    "},\n",
    "{\n",
    "    \"name\": \"Головаха Николай\",\n",
    "    \"priorities\": {\"depression\": 1, \"anxiety\": 2, \"phobia\": 3},\n",
    "},\n",
    "{\n",
    "    \"name\": \"Глебова Мария\",\n",
    "    \"priorities\": {\"OCD\": 1, \"personality disorder\": 2},\n",
    "}\n",
    "]\n",
    "choose_specialist(output[0], specialists_priorities)"
   ]
  },
  {
   "cell_type": "code",
   "execution_count": null,
   "metadata": {},
   "outputs": [],
   "source": []
  }
 ],
 "metadata": {
  "kernelspec": {
   "display_name": "Python 3",
   "language": "python",
   "name": "python3"
  },
  "language_info": {
   "codemirror_mode": {
    "name": "ipython",
    "version": 3
   },
   "file_extension": ".py",
   "mimetype": "text/x-python",
   "name": "python",
   "nbconvert_exporter": "python",
   "pygments_lexer": "ipython3",
   "version": "3.9.18"
  }
 },
 "nbformat": 4,
 "nbformat_minor": 2
}
